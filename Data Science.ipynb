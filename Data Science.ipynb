{
    "cells": [
        {
            "cell_type": "markdown",
            "metadata": {
                "id": "5c79e29f-28b7-4166-943a-eb6e3ea5807c"
            },
            "source": "This program prints Hello, World!"
        },
        {
            "cell_type": "code",
            "execution_count": 2,
            "metadata": {
                "id": "a9bce578-79ee-46db-aa0d-b0f12a293fe0"
            },
            "outputs": [
                {
                    "name": "stdout",
                    "output_type": "stream",
                    "text": "Helo, World!\n"
                }
            ],
            "source": "print(\"Helo, World!\")"
        },
        {
            "cell_type": "code",
            "execution_count": null,
            "metadata": {
                "id": "a57c3d0e-907c-43ea-a889-7d1acec0427a"
            },
            "outputs": [],
            "source": ""
        }
    ],
    "metadata": {
        "kernelspec": {
            "display_name": "Python 3.11 with Spark",
            "language": "python3",
            "name": "python311"
        },
        "language_info": {
            "codemirror_mode": {
                "name": "ipython",
                "version": 3
            },
            "file_extension": ".py",
            "mimetype": "text/x-python",
            "name": "python",
            "nbconvert_exporter": "python",
            "pygments_lexer": "ipython3",
            "version": "3.11.9"
        }
    },
    "nbformat": 4,
    "nbformat_minor": 4
}