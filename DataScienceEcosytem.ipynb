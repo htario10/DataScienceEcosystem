{
 "cells": [
  {
   "cell_type": "markdown",
   "id": "baf6f484-11e9-44f1-ba26-a3a98ebb0479",
   "metadata": {},
   "source": [
    "# Data Science Tools And Ecosystem"
   ]
  },
  {
   "cell_type": "markdown",
   "id": "30f11aa0-7c6f-4a69-90ae-a92a8daa6653",
   "metadata": {},
   "source": [
    "### In this notebook, Data Science Tools and Ecosystem are summarized"
   ]
  },
  {
   "cell_type": "markdown",
   "id": "305988d0-9e2c-4624-a0e3-33513eb417a0",
   "metadata": {},
   "source": [
    "**Objectives**\n",
    "\n",
    "1. List popular languages for Data Science.\n",
    "2. List popular libraries for Data Science.\n",
    "3. Crate table  for Data Sciencein."
   ]
  },
  {
   "cell_type": "markdown",
   "id": "d84787f6-eed2-4031-90db-571899f4a610",
   "metadata": {},
   "source": [
    "##### Some of the popular languages that Data Scientists use are: "
   ]
  },
  {
   "cell_type": "markdown",
   "id": "31aab666-38f8-49d8-9f15-174295372aa6",
   "metadata": {},
   "source": [
    "1. python \n",
    "2. R \n",
    "3. Julia"
   ]
  },
  {
   "cell_type": "markdown",
   "id": "8551ae95-3d2d-4949-896a-d4d49902deb5",
   "metadata": {},
   "source": [
    "##### Some of the commonly used libraries used by Data Scientists include: "
   ]
  },
  {
   "cell_type": "markdown",
   "id": "8edb2ed3-4e19-444c-aee9-2edeecc4ea19",
   "metadata": {},
   "source": [
    "1. Numpy\n",
    "2. Pandas\n",
    "3. Matplotlib"
   ]
  },
  {
   "cell_type": "markdown",
   "id": "92803aff-22f7-4f6f-8668-b5b043782cbf",
   "metadata": {},
   "source": [
    "| Data Science Tools |\n",
    "| :------------------: |\n",
    "| Apache Spark |\n",
    "| Tensor Flow |\n",
    "| Scikit-Learn |"
   ]
  },
  {
   "cell_type": "markdown",
   "id": "a92affd1-8bf7-4433-8c7e-d34afb9b7926",
   "metadata": {},
   "source": [
    "### Below are few examples of evaluating arithmetic expressions in Python "
   ]
  },
  {
   "cell_type": "code",
   "execution_count": 5,
   "id": "a1a20d20-6e9b-4a7c-b22b-56b8c3e3fc3c",
   "metadata": {},
   "outputs": [
    {
     "data": {
      "text/plain": [
       "17"
      ]
     },
     "execution_count": 5,
     "metadata": {},
     "output_type": "execute_result"
    }
   ],
   "source": [
    "(3*4)+5\n",
    "# This a simple arithmetic expression to mutiply then add integers.\n"
   ]
  },
  {
   "cell_type": "code",
   "execution_count": 14,
   "id": "c85a014e-d0ec-41c3-96b2-010666b1eb48",
   "metadata": {},
   "outputs": [
    {
     "name": "stdout",
     "output_type": "stream",
     "text": [
      "3.33 hours\n"
     ]
    }
   ],
   "source": [
    "x = (round(200/60,2))\n",
    "print(x, 'hours')\n",
    "# This will convert 200 minutes to hours by diving by 60."
   ]
  },
  {
   "cell_type": "markdown",
   "id": "c7183803-1e8e-4b60-acdf-a5b26cdd03a3",
   "metadata": {},
   "source": [
    "## Author \n",
    "Hermes Tario"
   ]
  },
  {
   "cell_type": "code",
   "execution_count": null,
   "id": "c023e420-c147-4ffa-89c8-8efd6e84a000",
   "metadata": {},
   "outputs": [],
   "source": []
  }
 ],
 "metadata": {
  "kernelspec": {
   "display_name": "Python 3 (ipykernel)",
   "language": "python",
   "name": "python3"
  },
  "language_info": {
   "codemirror_mode": {
    "name": "ipython",
    "version": 3
   },
   "file_extension": ".py",
   "mimetype": "text/x-python",
   "name": "python",
   "nbconvert_exporter": "python",
   "pygments_lexer": "ipython3",
   "version": "3.12.4"
  }
 },
 "nbformat": 4,
 "nbformat_minor": 5
}
